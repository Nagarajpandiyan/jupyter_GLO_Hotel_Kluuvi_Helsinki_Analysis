{
  "nbformat": 4,
  "nbformat_minor": 0,
  "metadata": {
    "colab": {
      "name": "jupyter_GLO-Hotel-Kluuvi-Helsinki-Analysis.ipynb",
      "provenance": []
    },
    "language_info": {
      "codemirror_mode": {
        "name": "ipython",
        "version": 3
      },
      "file_extension": ".py",
      "mimetype": "text/x-python",
      "name": "python",
      "nbconvert_exporter": "python",
      "pygments_lexer": "ipython3",
      "version": "3.6.4"
    },
    "kernelspec": {
      "display_name": "Python 3",
      "language": "python",
      "name": "python3"
    }
  },
  "cells": [
    {
      "cell_type": "code",
      "metadata": {
        "id": "wU4kvEM85Ed_",
        "colab_type": "code",
        "colab": {}
      },
      "source": [
        "from pyspark.sql import SQLContext, SparkSession\n",
        "from nltk.tokenize import word_tokenize\n",
        "import matplotlib.pyplot as plt\n",
        "from collections import defaultdict\n",
        "from nltk.sentiment.vader import SentimentIntensityAnalyzer\n",
        "from textblob import TextBlob\n",
        "import operator\n",
        "import wordcloud"
      ],
      "execution_count": 0,
      "outputs": []
    },
    {
      "cell_type": "code",
      "metadata": {
        "id": "URZkIwNq5EeO",
        "colab_type": "code",
        "colab": {}
      },
      "source": [
        "spark = SparkSession.builder.appName(\"HelsinkiHotelsDemo\")\\\n",
        "            .config(\"spark.some.config.option\", \"HelsinkiAnalysis\").getOrCreate()"
      ],
      "execution_count": 0,
      "outputs": []
    },
    {
      "cell_type": "code",
      "metadata": {
        "id": "hCcUk3Ny5EeW",
        "colab_type": "code",
        "colab": {}
      },
      "source": [
        "data = spark.read.json(\"/home/yi/Music/Sentiment-Analysis/reviewData/Tripadvisor/005_Helsinki_Tripadvisor.json\")"
      ],
      "execution_count": 0,
      "outputs": []
    },
    {
      "cell_type": "code",
      "metadata": {
        "id": "iiysO_oR5Eee",
        "colab_type": "code",
        "colab": {}
      },
      "source": [
        "# filter undesirable revords\n",
        "clean_data = data.filter(\"review is not Null\")\n",
        "clean_data = clean_data.filter(\"score is not Null\")\n",
        "clean_data = clean_data.filter(\"hotelStars is not Null\")\n",
        "clean_data = clean_data.filter(\"hotelName is not NUll\")"
      ],
      "execution_count": 0,
      "outputs": []
    },
    {
      "cell_type": "code",
      "metadata": {
        "id": "HhMznH1G5Eek",
        "colab_type": "code",
        "colab": {}
      },
      "source": [
        "records = clean_data.groupBy(clean_data.hotelUrl).count().collect()"
      ],
      "execution_count": 0,
      "outputs": []
    },
    {
      "cell_type": "code",
      "metadata": {
        "id": "_Dmz_1vx5Eeq",
        "colab_type": "code",
        "colab": {}
      },
      "source": [
        "recordsRDD = spark.sparkContext.parallelize(records)"
      ],
      "execution_count": 0,
      "outputs": []
    },
    {
      "cell_type": "code",
      "metadata": {
        "id": "PKaIgLAe5Eew",
        "colab_type": "code",
        "colab": {}
      },
      "source": [
        "maxReviewRecord = recordsRDD.max(key = lambda x : x[1])"
      ],
      "execution_count": 0,
      "outputs": []
    },
    {
      "cell_type": "code",
      "metadata": {
        "id": "pMhm1uhw5Ee2",
        "colab_type": "code",
        "outputId": "8434b589-d234-43f6-d7aa-e3991d0f1eb1",
        "colab": {}
      },
      "source": [
        "type(records)"
      ],
      "execution_count": 0,
      "outputs": [
        {
          "output_type": "execute_result",
          "data": {
            "text/plain": [
              "list"
            ]
          },
          "metadata": {
            "tags": []
          },
          "execution_count": 8
        }
      ]
    },
    {
      "cell_type": "code",
      "metadata": {
        "id": "xhPKvQuF5Ee_",
        "colab_type": "code",
        "colab": {}
      },
      "source": [
        "maxReviewsOnehotel = clean_data.filter(clean_data.hotelUrl == maxReviewRecord.hotelUrl).collect()"
      ],
      "execution_count": 0,
      "outputs": []
    },
    {
      "cell_type": "code",
      "metadata": {
        "id": "gt8gEDWF5EfF",
        "colab_type": "code",
        "outputId": "ab130a27-f18a-4f0f-87a8-9421145dd90e",
        "colab": {}
      },
      "source": [
        "type(maxReviewsOnehotel)"
      ],
      "execution_count": 0,
      "outputs": [
        {
          "output_type": "execute_result",
          "data": {
            "text/plain": [
              "list"
            ]
          },
          "metadata": {
            "tags": []
          },
          "execution_count": 10
        }
      ]
    },
    {
      "cell_type": "code",
      "metadata": {
        "id": "Uo4ihNZ_5EfN",
        "colab_type": "code",
        "outputId": "669bd4c0-e7c7-4806-b03b-1cda008a57ed",
        "colab": {}
      },
      "source": [
        "len(maxReviewsOnehotel)"
      ],
      "execution_count": 0,
      "outputs": [
        {
          "output_type": "execute_result",
          "data": {
            "text/plain": [
              "1266"
            ]
          },
          "metadata": {
            "tags": []
          },
          "execution_count": 11
        }
      ]
    },
    {
      "cell_type": "code",
      "metadata": {
        "id": "zHpsIkuv5EfU",
        "colab_type": "code",
        "colab": {}
      },
      "source": [
        "# take the hotel which has the biggest number of reviews as example.\n",
        "reviews = list()\n",
        "commentDates = list()\n",
        "reviews_category = dict()\n",
        "scores = defaultdict()\n",
        "scores[\"0\"] = 0\n",
        "scores[\"1\"] = 0\n",
        "scores[\"2\"] = 0\n",
        "scores[\"3\"] = 0\n",
        "scores[\"4\"] = 0\n",
        "scores[\"5\"] = 0\n",
        "reviews_category[\"0\"] = list()\n",
        "reviews_category[\"1\"] = list()\n",
        "reviews_category[\"2\"] = list()\n",
        "reviews_category[\"3\"] = list()\n",
        "reviews_category[\"4\"] = list()\n",
        "reviews_category[\"5\"] = list()\n",
        "\n",
        "for record in maxReviewsOnehotel:\n",
        "#     print(record)\n",
        "    hotel_star = record[\"hotelStars\"]\n",
        "    review_num = 0\n",
        "#     print(record.score.score)\n",
        "#     print(type(score.score))\n",
        "    scores[str(int(record[\"score\"]))] += 1\n",
        "    reviews_category[str(int(record[\"score\"]))].append(record.review)\n",
        "    reviews.append(record.review)\n",
        "    commentDates.append(record.date)\n",
        "    \n",
        "        "
      ],
      "execution_count": 0,
      "outputs": []
    },
    {
      "cell_type": "code",
      "metadata": {
        "id": "d8YG-BVy5Efb",
        "colab_type": "code",
        "outputId": "3e1a2b43-bc6f-4d63-e63e-69cd84fbb70f",
        "colab": {}
      },
      "source": [
        "scores"
      ],
      "execution_count": 0,
      "outputs": [
        {
          "output_type": "execute_result",
          "data": {
            "text/plain": [
              "defaultdict(None, {'0': 0, '1': 7, '2': 26, '3': 101, '4': 499, '5': 633})"
            ]
          },
          "metadata": {
            "tags": []
          },
          "execution_count": 14
        }
      ]
    },
    {
      "cell_type": "code",
      "metadata": {
        "id": "Cz3SQtw85Efi",
        "colab_type": "code",
        "outputId": "3c997634-d5fc-4cfe-ee84-53f07529371a",
        "colab": {}
      },
      "source": [
        "maxReviewsOnehotel[0]"
      ],
      "execution_count": 0,
      "outputs": [
        {
          "output_type": "execute_result",
          "data": {
            "text/plain": [
              "Row(_id=Row($oid='598d91529b1f26716b0b7227'), date=None, hotelLocation='Kluuvikatu 4, Helsinki 00100, Finland', hotelName=' GLO Hotel Kluuvi Helsinki ', hotelStars='4.0', hotelUrl='https://www.tripadvisor.com/Hotel_Review-g189934-d625374-Reviews-GLO_Hotel_Kluuvi_Helsinki-Helsinki_Uusimaa.html', review='All in all the hotel can be recommended, but certain points need to be pointed out.First the good things: The staff is very friendly and always trying to help, excellent English, no problem to communicate with. The hotel is very clean and well equipped. Also, it is in the very center of Helsinki (all the major sights are within easy walking distance) and thus a good base for both leisure and business travellers.Some things were bothersome, though: For instance, in our bathroom the sink drain did not work. Even though we pointed this out to the front desk within 30 minutes of arriving, they did not manage to properly fix it until we left 3 days later. All they did was change it from permanently shut to permanently open.The breakfast buffet has a nice (but not extraordinary) selection. But: during the week it is only available until 10 a.m., which means that at 9:45 (when we came down) the whole restaurant was packed with guests - we had to wait for a table and finally cleaned one ourselves (!); half the stuff from the buffet was gone and only gradually restocked by the struggling staff, and there were lines for everything. And they started cleaning off at a few minutes past 10, while the restaurant was still full - not quite what I would expect from a top hotel...Nevertheless, those were our only annoyances; it has to pointed out that it really is a good value hotel and nice and clean (which is what I always am glad to find).It can be recommended for everybody and we will probably return to this hotel if ever revisiting Helsinki.', score=4.0, title='Nice hotel, but not extraordinary', url='https://www.tripadvisor.com/ShowUserReviews-g189934-d625374-r8418983-GLO_Hotel_Kluuvi_Helsinki-Helsinki_Uusimaa.html', userId='MaxHuber')"
            ]
          },
          "metadata": {
            "tags": []
          },
          "execution_count": 15
        }
      ]
    },
    {
      "cell_type": "code",
      "metadata": {
        "id": "ZKp4EHDi5Efn",
        "colab_type": "code",
        "colab": {}
      },
      "source": [
        "oneHotelStatistics = dict()\n",
        "oneHotelStatistics[\"scores\"] = scores\n",
        "oneHotelStatistics[\"hotelUrl\"] = maxReviewsOnehotel[0][\"hotelUrl\"]\n",
        "oneHotelStatistics[\"hotelStars\"] = maxReviewsOnehotel[0][\"hotelStars\"]"
      ],
      "execution_count": 0,
      "outputs": []
    },
    {
      "cell_type": "code",
      "metadata": {
        "id": "yfvq93iJ5Efs",
        "colab_type": "code",
        "colab": {}
      },
      "source": [
        "oneHotelStatistics[\"commentDates\"] = commentDates"
      ],
      "execution_count": 0,
      "outputs": []
    },
    {
      "cell_type": "code",
      "metadata": {
        "id": "XOvsNrn15Efx",
        "colab_type": "code",
        "colab": {}
      },
      "source": [
        "oneHotelStatistics[\"hotelLocation\"] = maxReviewsOnehotel[0][\"hotelLocation\"]"
      ],
      "execution_count": 0,
      "outputs": []
    },
    {
      "cell_type": "code",
      "metadata": {
        "id": "5-GkfqFh5Ef1",
        "colab_type": "code",
        "colab": {}
      },
      "source": [
        "oneHotelStatistics[\"hotelName\"] = maxReviewsOnehotel[0][\"hotelName\"]\n"
      ],
      "execution_count": 0,
      "outputs": []
    },
    {
      "cell_type": "code",
      "metadata": {
        "id": "sk1fqjCA5Ef5",
        "colab_type": "code",
        "colab": {}
      },
      "source": [
        "oneHotelStatistics[\"reviews\"] = reviews"
      ],
      "execution_count": 0,
      "outputs": []
    },
    {
      "cell_type": "code",
      "metadata": {
        "id": "xWHa0xQ15Ef-",
        "colab_type": "code",
        "outputId": "cf0dafaf-06e3-4563-cd7a-a514f45462f2",
        "colab": {}
      },
      "source": [
        "oneHotelStatistics[\"scores\"]"
      ],
      "execution_count": 0,
      "outputs": [
        {
          "output_type": "execute_result",
          "data": {
            "text/plain": [
              "defaultdict(None, {'0': 0, '1': 7, '2': 26, '3': 101, '4': 499, '5': 633})"
            ]
          },
          "metadata": {
            "tags": []
          },
          "execution_count": 21
        }
      ]
    },
    {
      "cell_type": "code",
      "metadata": {
        "id": "g7CpK5Uf5EgE",
        "colab_type": "code",
        "outputId": "81e9e510-4c38-4d60-f13c-b29d50b1b4ea",
        "colab": {}
      },
      "source": [
        "oneHotelStatistics[\"hotelName\"]"
      ],
      "execution_count": 0,
      "outputs": [
        {
          "output_type": "execute_result",
          "data": {
            "text/plain": [
              "' GLO Hotel Kluuvi Helsinki '"
            ]
          },
          "metadata": {
            "tags": []
          },
          "execution_count": 22
        }
      ]
    },
    {
      "cell_type": "code",
      "metadata": {
        "id": "W0aVe-EA5EgN",
        "colab_type": "code",
        "outputId": "7a8bb512-c830-42a4-c253-e02e5065bb2b",
        "colab": {}
      },
      "source": [
        "oneHotelStatistics[\"hotelUrl\"]"
      ],
      "execution_count": 0,
      "outputs": [
        {
          "output_type": "execute_result",
          "data": {
            "text/plain": [
              "'https://www.tripadvisor.com/Hotel_Review-g189934-d625374-Reviews-GLO_Hotel_Kluuvi_Helsinki-Helsinki_Uusimaa.html'"
            ]
          },
          "metadata": {
            "tags": []
          },
          "execution_count": 23
        }
      ]
    },
    {
      "cell_type": "code",
      "metadata": {
        "id": "PUDQ-GAd5EgR",
        "colab_type": "code",
        "colab": {}
      },
      "source": [
        "def countLength(strLists):\n",
        "    print(len(strLists))\n",
        "    if len(strLists) == 0:\n",
        "        return 0\n",
        "    else:\n",
        "        totalLen = 0\n",
        "        for i in strLists:\n",
        "#             print(len(word_tokenize(i)))\n",
        "#             print(i)\n",
        "            totalLen += len(word_tokenize(i))\n",
        "        avgLen = totalLen/len(strLists)\n",
        "        return round(avgLen)"
      ],
      "execution_count": 0,
      "outputs": []
    },
    {
      "cell_type": "code",
      "metadata": {
        "id": "sKGZRKb05EgU",
        "colab_type": "code",
        "outputId": "6921fe59-db9f-4133-97ea-1a4e2fa8106a",
        "colab": {}
      },
      "source": [
        "len_1_score_1 = countLength(reviews_category[\"1\"])\n",
        "len_1_score_1"
      ],
      "execution_count": 0,
      "outputs": [
        {
          "output_type": "stream",
          "text": [
            "7\n"
          ],
          "name": "stdout"
        },
        {
          "output_type": "execute_result",
          "data": {
            "text/plain": [
              "479"
            ]
          },
          "metadata": {
            "tags": []
          },
          "execution_count": 25
        }
      ]
    },
    {
      "cell_type": "code",
      "metadata": {
        "id": "DdvD4GHy5EgY",
        "colab_type": "code",
        "outputId": "b8f35656-893e-4e57-cd33-e752d232ee66",
        "colab": {}
      },
      "source": [
        "score_review_len = dict()\n",
        "score_review_len[\"0_score_review_len\"] = countLength(reviews_category[\"0\"])\n",
        "score_review_len[\"1_score_review_len\"] = countLength(reviews_category[\"1\"])\n",
        "score_review_len[\"2_score_review_len\"] = countLength(reviews_category[\"2\"])\n",
        "score_review_len[\"3_score_review_len\"] = countLength(reviews_category[\"3\"])\n",
        "score_review_len[\"4_score_review_len\"] = countLength(reviews_category[\"4\"])\n",
        "score_review_len[\"5_score_review_len\"] = countLength(reviews_category[\"5\"])"
      ],
      "execution_count": 0,
      "outputs": [
        {
          "output_type": "stream",
          "text": [
            "0\n",
            "7\n",
            "26\n",
            "101\n",
            "499\n",
            "633\n"
          ],
          "name": "stdout"
        }
      ]
    },
    {
      "cell_type": "code",
      "metadata": {
        "id": "9VuPR83_5Ege",
        "colab_type": "code",
        "colab": {}
      },
      "source": [
        "oneHotelStatistics[\"scores_review_len\"] = score_review_len"
      ],
      "execution_count": 0,
      "outputs": []
    },
    {
      "cell_type": "code",
      "metadata": {
        "id": "CIEcznqf5Egh",
        "colab_type": "code",
        "outputId": "82be693f-9b6c-4899-df62-fba125a1061a",
        "colab": {}
      },
      "source": [
        "oneHotelStatistics[\"scores_review_len\"]"
      ],
      "execution_count": 0,
      "outputs": [
        {
          "output_type": "execute_result",
          "data": {
            "text/plain": [
              "{'0_score_review_len': 0,\n",
              " '1_score_review_len': 479,\n",
              " '2_score_review_len': 188,\n",
              " '3_score_review_len': 155,\n",
              " '4_score_review_len': 132,\n",
              " '5_score_review_len': 120}"
            ]
          },
          "metadata": {
            "tags": []
          },
          "execution_count": 28
        }
      ]
    },
    {
      "cell_type": "code",
      "metadata": {
        "id": "Abn-L9Sl5Egn",
        "colab_type": "code",
        "outputId": "332bd34a-b306-4ac0-ec0c-f44bc120a0d5",
        "colab": {}
      },
      "source": [
        "reviews_category[\"1\"][:3]"
      ],
      "execution_count": 0,
      "outputs": [
        {
          "output_type": "execute_result",
          "data": {
            "text/plain": [
              "['Have just been on a business trip to Helsinki and stayed at the GLO. When I arrived the clerk at the front dest told me that they had put me in a nice big room on the 7th Floor.The room was indeed quite big and quite to my satisfaction. Searching for the gym, I found that this was on the 8th floor. Very nicely equiped.After a long day I went to bed at 22.30. At 23.00 I woke up with a loud banging noise - it turned out that someone was working out in the gym which was located right on top of my room. Called the front desk and asked when the gym closed - the answer: \"it is open 24 hours\". I complained about the noise and was told that I could be moved to another room. In the middle of the night I had to collect all my belongings and move. The staff explained that I was not the first to complain. Here comes the funny part \"but we are almost fully booked and someone must stay in this room\". They must be joking - this is not a 2 star hotel - how can they treat guest like that?',\n",
              " 'BEWARE!!! They have a ridiculous \"guest\" policy and if you try to bring any friends or family to your room be prepared for a 50euro charge! They video and watch every person coming and going completely invading your privacy. I simply brought back a few local friends to my room for a drink and a game of cards before we went to dinner. Noting loud at all and left after about an hour. The next morning I was informed of this \"guest\" charge while eating at their pathetic breakfast service. They threated to kick me out of the hotel if I dared brough over any other guests. COMPLETELY RIDICULOUS! The hotel staff is very rude and unaccommodating. Avoid this hotel at all costs.',\n",
              " \"I've booked standard double for me and my 11-years old daughterI liked photos and location and was going to discover finland and helsinki for me and my daughter!It took 10 minutes to walk the hotel from railway station. So in the hotel.For the first time i ve been given the room with the window is upper then my head level I din t like itThen I have been given the room with small window facing to the yard and the roofs and with a view on the system of conditioning with a lot of noise I din t like itPor fin! I have been given room at the last floor with the shower block in one corner of the room, and the toilet with large window on the other side and with the wash-stand near the bed. The celling was low. The floor in the shower was pretty warm... but when you come out from it you find yourself on very cold floor of the room )) And of cause there was big window with a view of the roof and system of conditioning with a its goooo noiseSo that was standard room , not economy one... think and never never book it )Ok all this means standard for this hotelSo i chose second one ) But I found out that window can not be opened at all and you have to breath with only conditioned air, never fresh air... I asked to open the window because i have allergy ... and found out that there is only one window key for whole hotel... So i could not close it properly )))) At the night the battery had switched off by itself and nothing could help to switch it on again ))) It was january ))) So there was rather cold in the room ))) Okey when i was whole frozen i call to reception ) A pretty girl brought me heater and it worked ok , but has only one leg )))it was 6 am ))) And she said that maintenance start working at 8 am So i tried to sleep ... but at 8 the maintenance came ))) my daughter was sleeping of cause and battery remained broked ( The bed is very uncomfortable! After several hours of sleeping i have terrible pain in my upper back (((Ok after all i decided to go to GYM(to warm and repair my back) which is complimentary for all guest of the hotel and works from 6 am to 22 pm everyday! So ... It was closed! ))))So think twice Yes the hotel has very good location but it is so inhospitable and depressing that i strongly advise you choose another one )\"]"
            ]
          },
          "metadata": {
            "tags": []
          },
          "execution_count": 29
        }
      ]
    },
    {
      "cell_type": "code",
      "metadata": {
        "id": "Y3dtn4AC5Egr",
        "colab_type": "code",
        "colab": {}
      },
      "source": [
        "def nltkSentScore(sentences):\n",
        "    sentResult = dict()\n",
        "    sid = SentimentIntensityAnalyzer()\n",
        "    compoundAvgScore = 0\n",
        "    negAvgScore = 0\n",
        "    posAvgScore = 0\n",
        "    neuAvgScore = 0\n",
        "    for sent in sentences:\n",
        "        ss = sid.polarity_scores(sent)\n",
        "        compoundAvgScore += ss[\"compound\"]\n",
        "        negAvgScore += ss[\"neg\"]\n",
        "        posAvgScore += ss[\"pos\"]\n",
        "        neuAvgScore += ss[\"neu\"]\n",
        "    compoundAvgScore = round(compoundAvgScore/len(sentences), 2)\n",
        "    negAvgScore = round(negAvgScore/len(sentences), 2)\n",
        "    posAvgScore = round(posAvgScore/len(sentences), 2)\n",
        "    neuAvgScore = round(neuAvgScore/len(sentences), 2)\n",
        "    sentResult[\"neg\"] = negAvgScore\n",
        "    sentResult[\"compound\"] = compoundAvgScore\n",
        "    sentResult[\"pos\"] = posAvgScore\n",
        "    sentResult[\"neu\"] = neuAvgScore\n",
        "    return sentResult "
      ],
      "execution_count": 0,
      "outputs": []
    },
    {
      "cell_type": "code",
      "metadata": {
        "id": "jWSHTi9O5Egu",
        "colab_type": "code",
        "colab": {}
      },
      "source": [
        "reviews_1star_sent = nltkSentScore(reviews_category[\"1\"])"
      ],
      "execution_count": 0,
      "outputs": []
    },
    {
      "cell_type": "code",
      "metadata": {
        "id": "EWZyiw8v5Egx",
        "colab_type": "code",
        "outputId": "fb6ea660-2839-4825-a7c1-d686bf6d1bf2",
        "colab": {}
      },
      "source": [
        "reviews_1star_sent"
      ],
      "execution_count": 0,
      "outputs": [
        {
          "output_type": "execute_result",
          "data": {
            "text/plain": [
              "{'compound': 0.33, 'neg': 0.06, 'neu': 0.86, 'pos': 0.08}"
            ]
          },
          "metadata": {
            "tags": []
          },
          "execution_count": 33
        }
      ]
    },
    {
      "cell_type": "code",
      "metadata": {
        "id": "CZBdT4gG5Eg1",
        "colab_type": "code",
        "outputId": "23dbabbe-8304-48d0-d511-6265872c033a",
        "colab": {}
      },
      "source": [
        "reviews_2star_sent = nltkSentScore(reviews_category[\"2\"])\n",
        "reviews_2star_sent"
      ],
      "execution_count": 0,
      "outputs": [
        {
          "output_type": "execute_result",
          "data": {
            "text/plain": [
              "{'compound': 0.11, 'neg': 0.08, 'neu': 0.81, 'pos': 0.11}"
            ]
          },
          "metadata": {
            "tags": []
          },
          "execution_count": 34
        }
      ]
    },
    {
      "cell_type": "code",
      "metadata": {
        "id": "NTRPv59R5Eg6",
        "colab_type": "code",
        "outputId": "6c25607f-b671-42d5-a927-bd47b3d6712f",
        "colab": {}
      },
      "source": [
        "reviews_3star_sent = nltkSentScore(reviews_category[\"3\"])\n",
        "reviews_3star_sent"
      ],
      "execution_count": 0,
      "outputs": [
        {
          "output_type": "execute_result",
          "data": {
            "text/plain": [
              "{'compound': 0.55, 'neg': 0.06, 'neu': 0.79, 'pos': 0.14}"
            ]
          },
          "metadata": {
            "tags": []
          },
          "execution_count": 35
        }
      ]
    },
    {
      "cell_type": "code",
      "metadata": {
        "id": "sxVN6krn5Eg-",
        "colab_type": "code",
        "outputId": "f065b2be-5e9c-4c47-abc1-8fbe91f5a3b1",
        "colab": {}
      },
      "source": [
        "reviews_4star_sent = nltkSentScore(reviews_category[\"4\"])\n",
        "reviews_4star_sent"
      ],
      "execution_count": 0,
      "outputs": [
        {
          "output_type": "execute_result",
          "data": {
            "text/plain": [
              "{'compound': 0.85, 'neg': 0.03, 'neu': 0.76, 'pos': 0.21}"
            ]
          },
          "metadata": {
            "tags": []
          },
          "execution_count": 36
        }
      ]
    },
    {
      "cell_type": "code",
      "metadata": {
        "id": "dDooIYnh5EhD",
        "colab_type": "code",
        "outputId": "d734a3e7-5d22-400d-8cab-08e78b146ef3",
        "colab": {}
      },
      "source": [
        "reviews_5star_sent = nltkSentScore(reviews_category[\"5\"])\n",
        "reviews_5star_sent"
      ],
      "execution_count": 0,
      "outputs": [
        {
          "output_type": "execute_result",
          "data": {
            "text/plain": [
              "{'compound': 0.92, 'neg': 0.02, 'neu': 0.73, 'pos': 0.25}"
            ]
          },
          "metadata": {
            "tags": []
          },
          "execution_count": 37
        }
      ]
    },
    {
      "cell_type": "code",
      "metadata": {
        "id": "KsDHPRAU5EhI",
        "colab_type": "code",
        "colab": {}
      },
      "source": [
        "# using TextBlob\n"
      ],
      "execution_count": 0,
      "outputs": []
    },
    {
      "cell_type": "code",
      "metadata": {
        "id": "636WDSlo5EhK",
        "colab_type": "code",
        "colab": {}
      },
      "source": [
        "\n",
        "def textBlobSentScore(sentences):\n",
        "    compoundAvgScore = 0\n",
        "    for sent in sentences:\n",
        "        ss = TextBlob(sent)\n",
        "#         print(ss.sentiment.polarity)\n",
        "        compoundAvgScore += ss.sentiment.polarity\n",
        "    compoundAvgScore = round(compoundAvgScore/len(sentences), 2)\n",
        "    return compoundAvgScore\n"
      ],
      "execution_count": 0,
      "outputs": []
    },
    {
      "cell_type": "code",
      "metadata": {
        "id": "m1ts1eqU5EhM",
        "colab_type": "code",
        "colab": {}
      },
      "source": [
        "textblob_1star_sent = textBlobSentScore(reviews_category[\"1\"])"
      ],
      "execution_count": 0,
      "outputs": []
    },
    {
      "cell_type": "code",
      "metadata": {
        "id": "CEoKS4hZ5EhQ",
        "colab_type": "code",
        "outputId": "0db2579f-26f8-4e5c-b68a-334a22693fd8",
        "colab": {}
      },
      "source": [
        "textblob_1star_sent"
      ],
      "execution_count": 0,
      "outputs": [
        {
          "output_type": "execute_result",
          "data": {
            "text/plain": [
              "0.03"
            ]
          },
          "metadata": {
            "tags": []
          },
          "execution_count": 41
        }
      ]
    },
    {
      "cell_type": "code",
      "metadata": {
        "id": "0ILue5RR5EhU",
        "colab_type": "code",
        "outputId": "ae9082aa-c479-449d-ca73-da1d11158169",
        "colab": {}
      },
      "source": [
        "textblob_2star_sent = textBlobSentScore(reviews_category[\"2\"])\n",
        "textblob_2star_sent"
      ],
      "execution_count": 0,
      "outputs": [
        {
          "output_type": "execute_result",
          "data": {
            "text/plain": [
              "0.06"
            ]
          },
          "metadata": {
            "tags": []
          },
          "execution_count": 42
        }
      ]
    },
    {
      "cell_type": "code",
      "metadata": {
        "id": "Rc-RGKuC5EhY",
        "colab_type": "code",
        "outputId": "caefae57-61c3-450c-c5cf-c441d601ac99",
        "colab": {}
      },
      "source": [
        "textblob_3star_sent = textBlobSentScore(reviews_category[\"3\"])\n",
        "textblob_3star_sent"
      ],
      "execution_count": 0,
      "outputs": [
        {
          "output_type": "execute_result",
          "data": {
            "text/plain": [
              "0.15"
            ]
          },
          "metadata": {
            "tags": []
          },
          "execution_count": 43
        }
      ]
    },
    {
      "cell_type": "code",
      "metadata": {
        "id": "UgxA5jup5Ehc",
        "colab_type": "code",
        "outputId": "72263187-7493-42f3-ba82-0b609248c2ac",
        "colab": {}
      },
      "source": [
        "textblob_4star_sent = textBlobSentScore(reviews_category[\"4\"])\n",
        "textblob_4star_sent"
      ],
      "execution_count": 0,
      "outputs": [
        {
          "output_type": "execute_result",
          "data": {
            "text/plain": [
              "0.28"
            ]
          },
          "metadata": {
            "tags": []
          },
          "execution_count": 44
        }
      ]
    },
    {
      "cell_type": "code",
      "metadata": {
        "id": "scgbuKEE5Ehi",
        "colab_type": "code",
        "outputId": "c16b5af0-313a-4fb1-edbe-287c97732254",
        "colab": {}
      },
      "source": [
        "textblob_5star_sent = textBlobSentScore(reviews_category[\"5\"])\n",
        "textblob_5star_sent"
      ],
      "execution_count": 0,
      "outputs": [
        {
          "output_type": "execute_result",
          "data": {
            "text/plain": [
              "0.34"
            ]
          },
          "metadata": {
            "tags": []
          },
          "execution_count": 45
        }
      ]
    },
    {
      "cell_type": "markdown",
      "metadata": {
        "collapsed": true,
        "id": "RgC6IKYW5Ehq",
        "colab_type": "text"
      },
      "source": [
        "### stanford corenlp python wrapper\n"
      ]
    },
    {
      "cell_type": "markdown",
      "metadata": {
        "id": "R21dpJrX5Ehr",
        "colab_type": "text"
      },
      "source": [
        "### [0, 2] star system reviews are considered as negative;\n",
        "### [3,3] star system reviews are considered as neutral;\n",
        "### [4,5] star system reviews are considered as positive;\n",
        "### simply get their own feature."
      ]
    },
    {
      "cell_type": "code",
      "metadata": {
        "collapsed": true,
        "id": "W7dLxepd5Ehs",
        "colab_type": "code",
        "colab": {}
      },
      "source": [
        "neg_reviews = reviews_category[\"0\"] + reviews_category[\"1\"] + reviews_category[\"2\"]"
      ],
      "execution_count": 0,
      "outputs": []
    },
    {
      "cell_type": "code",
      "metadata": {
        "collapsed": true,
        "id": "IZqpzcZ65Ehu",
        "colab_type": "code",
        "colab": {}
      },
      "source": [
        "pos_reviews = reviews_category[\"4\"] + reviews_category[\"5\"]"
      ],
      "execution_count": 0,
      "outputs": []
    },
    {
      "cell_type": "code",
      "metadata": {
        "id": "Ivci8pEm5Ehw",
        "colab_type": "code",
        "outputId": "a4cadc1a-2b1a-4660-def5-6197d70c486c",
        "colab": {}
      },
      "source": [
        "print(\"negative reviews numbers: \", len(neg_reviews), \"; postive reviews numbers: \", len(pos_reviews))\n",
        "print(\"negative reviews percentage: \", round(100 * len(neg_reviews)/(len(neg_reviews)+len(pos_reviews)), 1), \"%\")"
      ],
      "execution_count": 0,
      "outputs": [
        {
          "output_type": "stream",
          "text": [
            "negative reviews numbers:  33 ; postive reviews numbers:  1132\n",
            "negative reviews percentage:  2.8 %\n"
          ],
          "name": "stdout"
        }
      ]
    },
    {
      "cell_type": "code",
      "metadata": {
        "collapsed": true,
        "id": "nmTNytNg5Ehz",
        "colab_type": "code",
        "colab": {}
      },
      "source": [
        "from nltk.tokenize import sent_tokenize, word_tokenize\n",
        "from nltk.stem.snowball import SnowballStemmer\n",
        "from nltk.corpus import stopwords\n",
        "neg_words = list()\n",
        "stemmer = SnowballStemmer(\"english\")\n",
        "\n",
        "for neg_rev in neg_reviews:\n",
        "    for sent in sent_tokenize(neg_rev):\n",
        "        for w in word_tokenize(sent):\n",
        "            if w.isalpha():\n",
        "                w_stem = stemmer.stem(w) \n",
        "                if w_stem not in stopwords.words(\"english\"):\n",
        "                    neg_words.append(w_stem)    #Stem a word\n",
        "\n",
        "pos_words = list()\n",
        "for pos_rev in pos_reviews:\n",
        "    for sent in sent_tokenize(pos_rev):\n",
        "        for w in word_tokenize(sent):\n",
        "            if w.isalpha():\n",
        "                w_stem = stemmer.stem(w) \n",
        "                if w_stem not in stopwords.words(\"english\"):\n",
        "                    pos_words.append(w_stem)    #Stem a word"
      ],
      "execution_count": 0,
      "outputs": []
    },
    {
      "cell_type": "code",
      "metadata": {
        "collapsed": true,
        "id": "RPqZyg_e5Eh2",
        "colab_type": "code",
        "colab": {}
      },
      "source": [
        "# print(neg_words)"
      ],
      "execution_count": 0,
      "outputs": []
    },
    {
      "cell_type": "code",
      "metadata": {
        "collapsed": true,
        "id": "8a-3Fh9z5Eh3",
        "colab_type": "code",
        "colab": {}
      },
      "source": [
        "from nltk.probability import FreqDist\n",
        "f_neg_words = FreqDist(neg_words)\n",
        "f_pos_words = FreqDist(pos_words)\n"
      ],
      "execution_count": 0,
      "outputs": []
    },
    {
      "cell_type": "code",
      "metadata": {
        "collapsed": true,
        "id": "8_Q-K5L05Eh9",
        "colab_type": "code",
        "colab": {}
      },
      "source": [
        "f_neg_words_dict = dict()\n",
        "f_pos_words_dict = dict()"
      ],
      "execution_count": 0,
      "outputs": []
    },
    {
      "cell_type": "code",
      "metadata": {
        "collapsed": true,
        "id": "2_PPYCMO5Eh_",
        "colab_type": "code",
        "colab": {}
      },
      "source": [
        "for i, j in f_neg_words.most_common(100):\n",
        "    f_neg_words_dict[i] = float(j)\n"
      ],
      "execution_count": 0,
      "outputs": []
    },
    {
      "cell_type": "code",
      "metadata": {
        "collapsed": true,
        "id": "9Od7jPg15EiC",
        "colab_type": "code",
        "colab": {}
      },
      "source": [
        "for i, j in f_pos_words.most_common(100):\n",
        "    f_pos_words_dict[i] = float(j)"
      ],
      "execution_count": 0,
      "outputs": []
    },
    {
      "cell_type": "code",
      "metadata": {
        "id": "rafe-HHt5EiD",
        "colab_type": "code",
        "outputId": "e6955333-29ea-4101-8471-37bc033e4ca1",
        "colab": {}
      },
      "source": [
        "type(f_neg_words.freq)\n",
        "# f_neg_words.freq\n",
        "i = 0\n",
        "for t in f_neg_words:\n",
        "    i += 1\n",
        "    if i < 10:\n",
        "        print(t, f_neg_words[t])"
      ],
      "execution_count": 0,
      "outputs": [
        {
          "output_type": "stream",
          "text": [
            "challeng 1\n",
            "level 3\n",
            "quiet 4\n",
            "main 3\n",
            "colleagu 1\n",
            "downstair 2\n",
            "market 1\n",
            "head 7\n",
            "could 10\n"
          ],
          "name": "stdout"
        }
      ]
    },
    {
      "cell_type": "code",
      "metadata": {
        "collapsed": true,
        "id": "8aHImPAL5EiH",
        "colab_type": "code",
        "colab": {}
      },
      "source": [
        "\n",
        "\n",
        "sorted_f_neg_words_dict = sorted(f_neg_words_dict.items(), key=lambda value: (0 - value[1]))\n"
      ],
      "execution_count": 0,
      "outputs": []
    },
    {
      "cell_type": "code",
      "metadata": {
        "collapsed": true,
        "id": "xO3V43225EiK",
        "colab_type": "code",
        "colab": {}
      },
      "source": [
        "sorted_f_pos_words_dict = sorted(f_pos_words_dict.items(), key=lambda value: (0 - value[1]))"
      ],
      "execution_count": 0,
      "outputs": []
    },
    {
      "cell_type": "code",
      "metadata": {
        "collapsed": true,
        "id": "x-uuDERI5EiN",
        "colab_type": "code",
        "colab": {}
      },
      "source": [
        "\n",
        "wc = wordcloud.WordCloud().generate_from_frequencies(sorted_f_neg_words_dict)"
      ],
      "execution_count": 0,
      "outputs": []
    },
    {
      "cell_type": "code",
      "metadata": {
        "collapsed": true,
        "id": "5RKswCsX5EiP",
        "colab_type": "code",
        "colab": {}
      },
      "source": [
        "wc_pos = wordcloud.WordCloud().generate_from_frequencies(sorted_f_pos_words_dict)"
      ],
      "execution_count": 0,
      "outputs": []
    },
    {
      "cell_type": "code",
      "metadata": {
        "collapsed": true,
        "id": "MVr7xWjf5EiS",
        "colab_type": "code",
        "colab": {}
      },
      "source": [
        "type(wc)"
      ],
      "execution_count": 0,
      "outputs": []
    },
    {
      "cell_type": "code",
      "metadata": {
        "id": "eTBnoYSw5EiT",
        "colab_type": "code",
        "outputId": "3c47d4cd-18dd-4416-97ad-dd257eff1682",
        "colab": {}
      },
      "source": [
        "\n",
        "plt.imshow(wc)\n",
        "plt.figure(figsize=(800, 400))\n",
        "plt.show()\n",
        "plt.close()"
      ],
      "execution_count": 0,
      "outputs": [
        {
          "output_type": "display_data",
          "data": {
            "image/png": "[encoded data removed]",
            "text/plain": [
              "<matplotlib.figure.Figure at 0x7f3aece54a58>"
            ]
          },
          "metadata": {
            "tags": []
          }
        },
        {
          "output_type": "display_data",
          "data": {
            "text/plain": [
              "<matplotlib.figure.Figure at 0x7f3aece54ac8>"
            ]
          },
          "metadata": {
            "tags": []
          }
        }
      ]
    },
    {
      "cell_type": "code",
      "metadata": {
        "id": "-XrIbH505EiX",
        "colab_type": "code",
        "outputId": "47b7ed41-d749-4795-f308-031046cf41b8",
        "colab": {}
      },
      "source": [
        "plt.imshow(wc_pos)\n",
        "plt.show(wc_pos)"
      ],
      "execution_count": 0,
      "outputs": [
        {
          "output_type": "display_data",
          "data": {
            "image/png": "[encoded data removed]",
            "text/plain": [
              "<matplotlib.figure.Figure at 0x7f3ae768c278>"
            ]
          },
          "metadata": {
            "tags": []
          }
        }
      ]
    }
  ]
}